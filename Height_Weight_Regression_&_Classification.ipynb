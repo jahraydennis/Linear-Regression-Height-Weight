{
  "nbformat": 4,
  "nbformat_minor": 0,
  "metadata": {
    "colab": {
      "name": "Height-Weight: Regression & Classification",
      "provenance": [],
      "collapsed_sections": [
        "dhk8KSl86yXg",
        "4C8wi-jq7Li7",
        "BTE-0LC3M6gB",
        "Wrs01O1JvmJA",
        "BJywbHojPqTf",
        "2mS8a6AmSoQC",
        "Iz0VUCKP3nUa",
        "vbL3-9zwS1LT",
        "7k6GyatKXMKB",
        "JVWme6JxYXl3",
        "dFEyvy5richy",
        "yv395kI7ul7o",
        "axI5ZZ0kpJBy"
      ]
    },
    "kernelspec": {
      "name": "python3",
      "display_name": "Python 3"
    }
  },
  "cells": [
    {
      "cell_type": "markdown",
      "metadata": {
        "id": "dhk8KSl86yXg",
        "colab_type": "text"
      },
      "source": [
        "# Predicting Body Weight With Height (Linear Regression / Classification)"
      ]
    },
    {
      "cell_type": "markdown",
      "metadata": {
        "id": "4C8wi-jq7Li7",
        "colab_type": "text"
      },
      "source": [
        "## Loading Our Data"
      ]
    },
    {
      "cell_type": "code",
      "metadata": {
        "id": "I6llL6BnIvzy",
        "colab_type": "code",
        "colab": {}
      },
      "source": [
        "# Importing necessary dependencies\n",
        "\n",
        "import numpy as np # linear algebra\n",
        "import pandas as pd # data processing, CSV file (pd.read_csv)\n",
        "import matplotlib.pyplot as plt\n",
        "import os\n",
        "import seaborn as sns"
      ],
      "execution_count": 11,
      "outputs": []
    },
    {
      "cell_type": "code",
      "metadata": {
        "id": "ceeFq4X5Lrpd",
        "colab_type": "code",
        "colab": {}
      },
      "source": [
        "# Importing the data\n",
        "df= pd.read_csv('weight-height.csv')"
      ],
      "execution_count": 12,
      "outputs": []
    },
    {
      "cell_type": "code",
      "metadata": {
        "id": "kIokC93eLwZp",
        "colab_type": "code",
        "colab": {
          "base_uri": "https://localhost:8080/",
          "height": 204
        },
        "outputId": "0747e40b-523e-4e21-cd3e-cd8479c73a13"
      },
      "source": [
        "# Loading the data\n",
        "\n",
        "df.head()"
      ],
      "execution_count": 13,
      "outputs": [
        {
          "output_type": "execute_result",
          "data": {
            "text/html": [
              "<div>\n",
              "<style scoped>\n",
              "    .dataframe tbody tr th:only-of-type {\n",
              "        vertical-align: middle;\n",
              "    }\n",
              "\n",
              "    .dataframe tbody tr th {\n",
              "        vertical-align: top;\n",
              "    }\n",
              "\n",
              "    .dataframe thead th {\n",
              "        text-align: right;\n",
              "    }\n",
              "</style>\n",
              "<table border=\"1\" class=\"dataframe\">\n",
              "  <thead>\n",
              "    <tr style=\"text-align: right;\">\n",
              "      <th></th>\n",
              "      <th>Gender</th>\n",
              "      <th>Height</th>\n",
              "      <th>Weight</th>\n",
              "    </tr>\n",
              "  </thead>\n",
              "  <tbody>\n",
              "    <tr>\n",
              "      <th>0</th>\n",
              "      <td>Male</td>\n",
              "      <td>73.847017</td>\n",
              "      <td>241.893563</td>\n",
              "    </tr>\n",
              "    <tr>\n",
              "      <th>1</th>\n",
              "      <td>Male</td>\n",
              "      <td>68.781904</td>\n",
              "      <td>162.310473</td>\n",
              "    </tr>\n",
              "    <tr>\n",
              "      <th>2</th>\n",
              "      <td>Male</td>\n",
              "      <td>74.110105</td>\n",
              "      <td>212.740856</td>\n",
              "    </tr>\n",
              "    <tr>\n",
              "      <th>3</th>\n",
              "      <td>Male</td>\n",
              "      <td>71.730978</td>\n",
              "      <td>220.042470</td>\n",
              "    </tr>\n",
              "    <tr>\n",
              "      <th>4</th>\n",
              "      <td>Male</td>\n",
              "      <td>69.881796</td>\n",
              "      <td>206.349801</td>\n",
              "    </tr>\n",
              "  </tbody>\n",
              "</table>\n",
              "</div>"
            ],
            "text/plain": [
              "  Gender     Height      Weight\n",
              "0   Male  73.847017  241.893563\n",
              "1   Male  68.781904  162.310473\n",
              "2   Male  74.110105  212.740856\n",
              "3   Male  71.730978  220.042470\n",
              "4   Male  69.881796  206.349801"
            ]
          },
          "metadata": {
            "tags": []
          },
          "execution_count": 13
        }
      ]
    },
    {
      "cell_type": "code",
      "metadata": {
        "id": "3vIqV_d0rz97",
        "colab_type": "code",
        "colab": {
          "base_uri": "https://localhost:8080/",
          "height": 34
        },
        "outputId": "e89cbb60-ae77-44b8-f49d-c76000af6c68"
      },
      "source": [
        "# Shape\n",
        "df.shape"
      ],
      "execution_count": 66,
      "outputs": [
        {
          "output_type": "execute_result",
          "data": {
            "text/plain": [
              "(10000, 3)"
            ]
          },
          "metadata": {
            "tags": []
          },
          "execution_count": 66
        }
      ]
    },
    {
      "cell_type": "markdown",
      "metadata": {
        "id": "s25FiVCRr5GX",
        "colab_type": "text"
      },
      "source": [
        "So we have the height and weight of 10000 individuals"
      ]
    },
    {
      "cell_type": "code",
      "metadata": {
        "id": "kEwDl7UksAhn",
        "colab_type": "code",
        "colab": {
          "base_uri": "https://localhost:8080/",
          "height": 187
        },
        "outputId": "c58d7532-0fb9-4f1d-b5b9-57853c02a728"
      },
      "source": [
        "# Getting data info\n",
        "df.info()"
      ],
      "execution_count": 67,
      "outputs": [
        {
          "output_type": "stream",
          "text": [
            "<class 'pandas.core.frame.DataFrame'>\n",
            "RangeIndex: 10000 entries, 0 to 9999\n",
            "Data columns (total 3 columns):\n",
            " #   Column  Non-Null Count  Dtype  \n",
            "---  ------  --------------  -----  \n",
            " 0   Gender  10000 non-null  object \n",
            " 1   Height  10000 non-null  float64\n",
            " 2   Weight  10000 non-null  float64\n",
            "dtypes: float64(2), object(1)\n",
            "memory usage: 234.5+ KB\n"
          ],
          "name": "stdout"
        }
      ]
    },
    {
      "cell_type": "code",
      "metadata": {
        "id": "bq71CZJOsysW",
        "colab_type": "code",
        "colab": {
          "base_uri": "https://localhost:8080/",
          "height": 297
        },
        "outputId": "a68406ce-abdb-4980-d803-b8cb67e250f6"
      },
      "source": [
        "# Describing the data\n",
        "df.describe()"
      ],
      "execution_count": 68,
      "outputs": [
        {
          "output_type": "execute_result",
          "data": {
            "text/html": [
              "<div>\n",
              "<style scoped>\n",
              "    .dataframe tbody tr th:only-of-type {\n",
              "        vertical-align: middle;\n",
              "    }\n",
              "\n",
              "    .dataframe tbody tr th {\n",
              "        vertical-align: top;\n",
              "    }\n",
              "\n",
              "    .dataframe thead th {\n",
              "        text-align: right;\n",
              "    }\n",
              "</style>\n",
              "<table border=\"1\" class=\"dataframe\">\n",
              "  <thead>\n",
              "    <tr style=\"text-align: right;\">\n",
              "      <th></th>\n",
              "      <th>Height</th>\n",
              "      <th>Weight</th>\n",
              "    </tr>\n",
              "  </thead>\n",
              "  <tbody>\n",
              "    <tr>\n",
              "      <th>count</th>\n",
              "      <td>10000.000000</td>\n",
              "      <td>10000.000000</td>\n",
              "    </tr>\n",
              "    <tr>\n",
              "      <th>mean</th>\n",
              "      <td>66.367560</td>\n",
              "      <td>161.440357</td>\n",
              "    </tr>\n",
              "    <tr>\n",
              "      <th>std</th>\n",
              "      <td>3.847528</td>\n",
              "      <td>32.108439</td>\n",
              "    </tr>\n",
              "    <tr>\n",
              "      <th>min</th>\n",
              "      <td>54.263133</td>\n",
              "      <td>64.700127</td>\n",
              "    </tr>\n",
              "    <tr>\n",
              "      <th>25%</th>\n",
              "      <td>63.505620</td>\n",
              "      <td>135.818051</td>\n",
              "    </tr>\n",
              "    <tr>\n",
              "      <th>50%</th>\n",
              "      <td>66.318070</td>\n",
              "      <td>161.212928</td>\n",
              "    </tr>\n",
              "    <tr>\n",
              "      <th>75%</th>\n",
              "      <td>69.174262</td>\n",
              "      <td>187.169525</td>\n",
              "    </tr>\n",
              "    <tr>\n",
              "      <th>max</th>\n",
              "      <td>78.998742</td>\n",
              "      <td>269.989699</td>\n",
              "    </tr>\n",
              "  </tbody>\n",
              "</table>\n",
              "</div>"
            ],
            "text/plain": [
              "             Height        Weight\n",
              "count  10000.000000  10000.000000\n",
              "mean      66.367560    161.440357\n",
              "std        3.847528     32.108439\n",
              "min       54.263133     64.700127\n",
              "25%       63.505620    135.818051\n",
              "50%       66.318070    161.212928\n",
              "75%       69.174262    187.169525\n",
              "max       78.998742    269.989699"
            ]
          },
          "metadata": {
            "tags": []
          },
          "execution_count": 68
        }
      ]
    },
    {
      "cell_type": "markdown",
      "metadata": {
        "id": "hLsR12emtF5h",
        "colab_type": "text"
      },
      "source": [
        "We can see that mean height is 169 cm and weight is 106 pounds\n",
        "\n"
      ]
    },
    {
      "cell_type": "code",
      "metadata": {
        "id": "0uPYvom5tIie",
        "colab_type": "code",
        "colab": {
          "base_uri": "https://localhost:8080/",
          "height": 68
        },
        "outputId": "17610c97-aefd-4e08-c7b2-78872ee1b195"
      },
      "source": [
        "# Getting count of Gender in the Data\n",
        "df['Gender'].value_counts()"
      ],
      "execution_count": 69,
      "outputs": [
        {
          "output_type": "execute_result",
          "data": {
            "text/plain": [
              "Male      5000\n",
              "Female    5000\n",
              "Name: Gender, dtype: int64"
            ]
          },
          "metadata": {
            "tags": []
          },
          "execution_count": 69
        }
      ]
    },
    {
      "cell_type": "markdown",
      "metadata": {
        "id": "xtVc8qhktNHW",
        "colab_type": "text"
      },
      "source": [
        "So we have equal distribution of Male and Female in the datset"
      ]
    },
    {
      "cell_type": "code",
      "metadata": {
        "id": "kwUPGyBHMGTI",
        "colab_type": "code",
        "colab": {
          "base_uri": "https://localhost:8080/",
          "height": 85
        },
        "outputId": "8b8ea3a3-9ac8-4a75-8862-c092e9248c5a"
      },
      "source": [
        "# Looking for null values\n",
        "\n",
        "df.isnull().sum()"
      ],
      "execution_count": 14,
      "outputs": [
        {
          "output_type": "execute_result",
          "data": {
            "text/plain": [
              "Gender    0\n",
              "Height    0\n",
              "Weight    0\n",
              "dtype: int64"
            ]
          },
          "metadata": {
            "tags": []
          },
          "execution_count": 14
        }
      ]
    },
    {
      "cell_type": "markdown",
      "metadata": {
        "id": "NXH7HzSRMg6-",
        "colab_type": "text"
      },
      "source": [
        "There are no null values in our data."
      ]
    },
    {
      "cell_type": "markdown",
      "metadata": {
        "id": "BTE-0LC3M6gB",
        "colab_type": "text"
      },
      "source": [
        "## Visualization\n",
        "\n",
        "Understanding the code:\n",
        "1. kind: Shows what kind of plot we want to visualize. e,g, hist, box and other kind.\n",
        "2. title: The title of the plot.\n",
        "3. color: you can choose any color. In my case 'c' stands for cyan"
      ]
    },
    {
      "cell_type": "code",
      "metadata": {
        "id": "Cmei4V41t4My",
        "colab_type": "code",
        "colab": {
          "base_uri": "https://localhost:8080/",
          "height": 279
        },
        "outputId": "4a6edcf2-a1ac-4ac6-e68b-8b660d8ab42c"
      },
      "source": [
        "# Scatter Plot with Weight as a function of Height\n",
        "df.plot(kind='scatter',x='Height',y='Weight');"
      ],
      "execution_count": 70,
      "outputs": [
        {
          "output_type": "display_data",
          "data": {
            "image/png": "[encoded data removed]",
            "text/plain": [
              "<Figure size 432x288 with 1 Axes>"
            ]
          },
          "metadata": {
            "tags": [],
            "needs_background": "light"
          }
        }
      ]
    },
    {
      "cell_type": "markdown",
      "metadata": {
        "id": "LX9xhvmwuGEP",
        "colab_type": "text"
      },
      "source": [
        "**Observation:**\n",
        "\n",
        "We can see that there is almost a Linear relation between Height and Weight.As Height increases, weight increases.This is quite obvious as bone weight would be more in taller people."
      ]
    },
    {
      "cell_type": "code",
      "metadata": {
        "id": "zkCXcXn6uV9S",
        "colab_type": "code",
        "colab": {}
      },
      "source": [
        "# Male and Female Separation on Scatter Plot\n",
        "\n",
        "males=df[df['Gender']=='Male']\n",
        "females=df[df['Gender']=='Female']"
      ],
      "execution_count": 71,
      "outputs": []
    },
    {
      "cell_type": "code",
      "metadata": {
        "id": "9Ipf3ArLugge",
        "colab_type": "code",
        "colab": {
          "base_uri": "https://localhost:8080/",
          "height": 295
        },
        "outputId": "18bf7799-c693-4e89-ec79-8130367508f2"
      },
      "source": [
        "fig,ax = plt.subplots()\n",
        "males.plot(kind='scatter',x='Height',y='Weight',\n",
        "          ax=ax,color='blue',alpha=0.3,\n",
        "          title='Male and Female Populations')\n",
        "females.plot(kind='scatter',x='Height',y='Weight',\n",
        "          ax=ax,color='red',alpha=0.3,\n",
        "          title='Male and Female Populations');"
      ],
      "execution_count": 72,
      "outputs": [
        {
          "output_type": "display_data",
          "data": {
            "image/png": "[encoded data removed]",
            "text/plain": [
              "<Figure size 432x288 with 1 Axes>"
            ]
          },
          "metadata": {
            "tags": [],
            "needs_background": "light"
          }
        }
      ]
    },
    {
      "cell_type": "markdown",
      "metadata": {
        "id": "IW6Cv57wumm8",
        "colab_type": "text"
      },
      "source": [
        "**Observation:**\n",
        "\n",
        "So we can see that there is a clear seperation between Male and Female.Women generally have lower height than Men so their weighs alos proportionally lower."
      ]
    },
    {
      "cell_type": "code",
      "metadata": {
        "id": "1HQOZUq2uxfS",
        "colab_type": "code",
        "colab": {}
      },
      "source": [
        "df['Genddercolor'] = df['Gender'].map({'Male':'blue','Female':'red'})"
      ],
      "execution_count": 73,
      "outputs": []
    },
    {
      "cell_type": "code",
      "metadata": {
        "id": "AHFsMZZZu4G4",
        "colab_type": "code",
        "colab": {
          "base_uri": "https://localhost:8080/",
          "height": 295
        },
        "outputId": "3a5ba992-ed43-4891-a3bf-48bad62b82ae"
      },
      "source": [
        "df.plot(kind='scatter',x='Height',y='Weight',c=df['Genddercolor'],\n",
        "        alpha=0.3,title='Male & Female Population');"
      ],
      "execution_count": 74,
      "outputs": [
        {
          "output_type": "display_data",
          "data": {
            "image/png": "[encoded data removed]",
            "text/plain": [
              "<Figure size 432x288 with 1 Axes>"
            ]
          },
          "metadata": {
            "tags": [],
            "needs_background": "light"
          }
        }
      ]
    },
    {
      "cell_type": "markdown",
      "metadata": {
        "id": "0qMBnqQavOa9",
        "colab_type": "text"
      },
      "source": [
        "We have managed to plot the same graph with different technique using map command."
      ]
    },
    {
      "cell_type": "code",
      "metadata": {
        "id": "CtQrzxKrvV6M",
        "colab_type": "code",
        "colab": {
          "base_uri": "https://localhost:8080/",
          "height": 295
        },
        "outputId": "3f07cdb7-ee31-4b3b-a168-f3b20bf4e465"
      },
      "source": [
        "# Here we will use a simple matplotlib techinique to plot the same graph.\n",
        "\n",
        "fig,ax = plt.subplots()\n",
        "ax.plot(males['Height'],males['Weight'],'ob',females['Height'],females['Weight'],'or',alpha=0.3)\n",
        "plt.xlabel('Height')\n",
        "plt.ylabel('Weight')\n",
        "plt.title('Male & Female Populations');"
      ],
      "execution_count": 75,
      "outputs": [
        {
          "output_type": "display_data",
          "data": {
            "image/png": "[encoded data removed]",
            "text/plain": [
              "<Figure size 432x288 with 1 Axes>"
            ]
          },
          "metadata": {
            "tags": [],
            "needs_background": "light"
          }
        }
      ]
    },
    {
      "cell_type": "markdown",
      "metadata": {
        "id": "Wrs01O1JvmJA",
        "colab_type": "text"
      },
      "source": [
        "### Distribution Using Histograms"
      ]
    },
    {
      "cell_type": "code",
      "metadata": {
        "id": "92HMGkxbvzCn",
        "colab_type": "code",
        "colab": {
          "base_uri": "https://localhost:8080/",
          "height": 295
        },
        "outputId": "036febe6-fa79-4341-9718-d6df079d8d5b"
      },
      "source": [
        "# Height Distribution\n",
        "\n",
        "males['Height'].plot(kind='hist',bins=50,range=(50,80),alpha=0.3,color='blue')\n",
        "females['Height'].plot(kind='hist',bins=50,range=(50,80),alpha=0.3,color='red')\n",
        "plt.title('Height distribution')\n",
        "plt.legend(['Males','Females'])\n",
        "plt.xlabel('Height in')\n",
        "plt.axvline(males['Height'].mean(),color='blue',linewidth=2)\n",
        "plt.axvline(females['Height'].mean(),color='red',linewidth=2);"
      ],
      "execution_count": 76,
      "outputs": [
        {
          "output_type": "display_data",
          "data": {
            "image/png": "[encoded data removed]",
            "text/plain": [
              "<Figure size 432x288 with 1 Axes>"
            ]
          },
          "metadata": {
            "tags": [],
            "needs_background": "light"
          }
        }
      ]
    },
    {
      "cell_type": "markdown",
      "metadata": {
        "id": "4r_HTeA6wAde",
        "colab_type": "text"
      },
      "source": [
        "**Observation:**\n",
        "\n",
        "As expected the Male gender are taller than Female.The red and blue lines show the mean of Female and Male height.\n"
      ]
    },
    {
      "cell_type": "code",
      "metadata": {
        "id": "WGl2x_qTwSwm",
        "colab_type": "code",
        "colab": {
          "base_uri": "https://localhost:8080/",
          "height": 111
        },
        "outputId": "63f95465-da57-479a-d966-eba8e5985e13"
      },
      "source": [
        "# Box Plot\n",
        "\n",
        "dfpvt=df.pivot(columns='Gender',values='Weight')\n",
        "dfpvt.head(2)"
      ],
      "execution_count": 79,
      "outputs": [
        {
          "output_type": "execute_result",
          "data": {
            "text/html": [
              "<div>\n",
              "<style scoped>\n",
              "    .dataframe tbody tr th:only-of-type {\n",
              "        vertical-align: middle;\n",
              "    }\n",
              "\n",
              "    .dataframe tbody tr th {\n",
              "        vertical-align: top;\n",
              "    }\n",
              "\n",
              "    .dataframe thead th {\n",
              "        text-align: right;\n",
              "    }\n",
              "</style>\n",
              "<table border=\"1\" class=\"dataframe\">\n",
              "  <thead>\n",
              "    <tr style=\"text-align: right;\">\n",
              "      <th>Gender</th>\n",
              "      <th>Female</th>\n",
              "      <th>Male</th>\n",
              "    </tr>\n",
              "  </thead>\n",
              "  <tbody>\n",
              "    <tr>\n",
              "      <th>0</th>\n",
              "      <td>NaN</td>\n",
              "      <td>241.893563</td>\n",
              "    </tr>\n",
              "    <tr>\n",
              "      <th>1</th>\n",
              "      <td>NaN</td>\n",
              "      <td>162.310473</td>\n",
              "    </tr>\n",
              "  </tbody>\n",
              "</table>\n",
              "</div>"
            ],
            "text/plain": [
              "Gender  Female        Male\n",
              "0          NaN  241.893563\n",
              "1          NaN  162.310473"
            ]
          },
          "metadata": {
            "tags": []
          },
          "execution_count": 79
        }
      ]
    },
    {
      "cell_type": "code",
      "metadata": {
        "id": "nHLZ5GJxxUkT",
        "colab_type": "code",
        "colab": {
          "base_uri": "https://localhost:8080/",
          "height": 298
        },
        "outputId": "1e5a854f-ed5d-48c1-d594-326ae6f2a81d"
      },
      "source": [
        "dfpvt.plot(kind='box');\n",
        "plt.title('Weight Box Plot')\n",
        "plt.ylabel('Weight (lb)')"
      ],
      "execution_count": 80,
      "outputs": [
        {
          "output_type": "execute_result",
          "data": {
            "text/plain": [
              "Text(0, 0.5, 'Weight (lb)')"
            ]
          },
          "metadata": {
            "tags": []
          },
          "execution_count": 80
        },
        {
          "output_type": "display_data",
          "data": {
            "image/png": "[encoded data removed]",
            "text/plain": [
              "<Figure size 432x288 with 1 Axes>"
            ]
          },
          "metadata": {
            "tags": [],
            "needs_background": "light"
          }
        }
      ]
    },
    {
      "cell_type": "markdown",
      "metadata": {
        "id": "-y8SsFDExkD1",
        "colab_type": "text"
      },
      "source": [
        "So we can see the box plot shows the spread of weight for male and female.\n",
        "\n"
      ]
    },
    {
      "cell_type": "markdown",
      "metadata": {
        "id": "BJywbHojPqTf",
        "colab_type": "text"
      },
      "source": [
        "### KDE Distribution"
      ]
    },
    {
      "cell_type": "code",
      "metadata": {
        "id": "qjFioELjPFat",
        "colab_type": "code",
        "colab": {
          "base_uri": "https://localhost:8080/",
          "height": 281
        },
        "outputId": "8f5a68c6-1163-4459-f496-cab33ccb651d"
      },
      "source": [
        "# KDE distribution for Height\n",
        "df.Height.plot(kind=\"kde\", title='Univariate: Height KDE', color='c');"
      ],
      "execution_count": 18,
      "outputs": [
        {
          "output_type": "display_data",
          "data": {
            "image/png": "[encoded data removed]",
            "text/plain": [
              "<Figure size 432x288 with 1 Axes>"
            ]
          },
          "metadata": {
            "tags": [],
            "needs_background": "light"
          }
        }
      ]
    },
    {
      "cell_type": "code",
      "metadata": {
        "id": "1m-mYslAPxz1",
        "colab_type": "code",
        "colab": {
          "base_uri": "https://localhost:8080/",
          "height": 281
        },
        "outputId": "1ad7fffc-2dae-4b02-f743-ea6e0f696df0"
      },
      "source": [
        "# KDE distribution for Weight\n",
        "df.Weight.plot(kind=\"kde\", title='Univariate: Weight KDE', color='c');\n"
      ],
      "execution_count": 19,
      "outputs": [
        {
          "output_type": "display_data",
          "data": {
            "image/png": "[encoded data removed]",
            "text/plain": [
              "<Figure size 432x288 with 1 Axes>"
            ]
          },
          "metadata": {
            "tags": [],
            "needs_background": "light"
          }
        }
      ]
    },
    {
      "cell_type": "markdown",
      "metadata": {
        "id": "2mS8a6AmSoQC",
        "colab_type": "text"
      },
      "source": [
        "# Weight Prediction"
      ]
    },
    {
      "cell_type": "markdown",
      "metadata": {
        "id": "Iz0VUCKP3nUa",
        "colab_type": "text"
      },
      "source": [
        "### Method 1"
      ]
    },
    {
      "cell_type": "code",
      "metadata": {
        "id": "W7AguNj93DC3",
        "colab_type": "code",
        "colab": {
          "base_uri": "https://localhost:8080/",
          "height": 34
        },
        "outputId": "3e786583-c5b5-412b-b060-9901cd918301"
      },
      "source": [
        "X=df['Height'].values[:,None]\n",
        "X.shape"
      ],
      "execution_count": 81,
      "outputs": [
        {
          "output_type": "execute_result",
          "data": {
            "text/plain": [
              "(10000, 1)"
            ]
          },
          "metadata": {
            "tags": []
          },
          "execution_count": 81
        }
      ]
    },
    {
      "cell_type": "code",
      "metadata": {
        "id": "axu_7ZVr3Jk2",
        "colab_type": "code",
        "colab": {
          "base_uri": "https://localhost:8080/",
          "height": 34
        },
        "outputId": "7ba839c3-1f0b-4123-a48c-c75d756ffffb"
      },
      "source": [
        "y=df.iloc[:,2].values\n",
        "y.shape"
      ],
      "execution_count": 82,
      "outputs": [
        {
          "output_type": "execute_result",
          "data": {
            "text/plain": [
              "(10000,)"
            ]
          },
          "metadata": {
            "tags": []
          },
          "execution_count": 82
        }
      ]
    },
    {
      "cell_type": "code",
      "metadata": {
        "id": "ZgghbwcB39a4",
        "colab_type": "code",
        "colab": {}
      },
      "source": [
        "# Splitting the test train data\n",
        "\n",
        "from sklearn.model_selection import train_test_split \n",
        "X_train,X_test,y_train,y_test=train_test_split(X,y,test_size=0.2,random_state=42)"
      ],
      "execution_count": 83,
      "outputs": []
    },
    {
      "cell_type": "markdown",
      "metadata": {
        "id": "Of4eSv1r4QVU",
        "colab_type": "text"
      },
      "source": [
        "**Linear Regression**"
      ]
    },
    {
      "cell_type": "code",
      "metadata": {
        "id": "2jqqQW974Vb1",
        "colab_type": "code",
        "colab": {
          "base_uri": "https://localhost:8080/",
          "height": 34
        },
        "outputId": "db41ee33-23a9-4857-af25-184540789c11"
      },
      "source": [
        "from sklearn.linear_model import LinearRegression\n",
        "lm=LinearRegression()\n",
        "lm.fit(X_train,y_train)"
      ],
      "execution_count": 84,
      "outputs": [
        {
          "output_type": "execute_result",
          "data": {
            "text/plain": [
              "LinearRegression(copy_X=True, fit_intercept=True, n_jobs=None, normalize=False)"
            ]
          },
          "metadata": {
            "tags": []
          },
          "execution_count": 84
        }
      ]
    },
    {
      "cell_type": "markdown",
      "metadata": {
        "id": "9ifAt3lM4b5C",
        "colab_type": "text"
      },
      "source": [
        "**Predicting the Weight**"
      ]
    },
    {
      "cell_type": "code",
      "metadata": {
        "id": "Hn5RgUgY4ezC",
        "colab_type": "code",
        "colab": {
          "base_uri": "https://localhost:8080/",
          "height": 51
        },
        "outputId": "db2fd2c8-c6b9-4855-bcef-bcfd2f3db630"
      },
      "source": [
        "y_test=lm.predict(X_test)\n",
        "print(y_test)"
      ],
      "execution_count": 85,
      "outputs": [
        {
          "output_type": "stream",
          "text": [
            "[179.25399046 180.34848321 161.62288801 ... 129.20288223 166.78470522\n",
            " 101.81227499]\n"
          ],
          "name": "stdout"
        }
      ]
    },
    {
      "cell_type": "markdown",
      "metadata": {
        "id": "atTmeBH84kS2",
        "colab_type": "text"
      },
      "source": [
        "**Plotting the given data against the predicted data**"
      ]
    },
    {
      "cell_type": "code",
      "metadata": {
        "id": "uuZcjA8N4nB-",
        "colab_type": "code",
        "colab": {
          "base_uri": "https://localhost:8080/",
          "height": 279
        },
        "outputId": "8df86c8c-b56d-415b-be44-892f1a5e9af9"
      },
      "source": [
        "plt.scatter(X,y,color='b')\n",
        "plt.plot(X_test,y_test,color='black',linewidth=3)\n",
        "plt.xlabel('Height in inches')\n",
        "plt.ylabel('Weight in Pounds')\n",
        "plt.show()"
      ],
      "execution_count": 87,
      "outputs": [
        {
          "output_type": "display_data",
          "data": {
            "image/png": "[encoded data removed]",
            "text/plain": [
              "<Figure size 432x288 with 1 Axes>"
            ]
          },
          "metadata": {
            "tags": [],
            "needs_background": "light"
          }
        }
      ]
    },
    {
      "cell_type": "markdown",
      "metadata": {
        "id": "3a63B2QD4u63",
        "colab_type": "text"
      },
      "source": [
        "**Observation:**\n",
        "\n",
        "The blue dots are the actual weight and the black line indicates the linear model prediction."
      ]
    },
    {
      "cell_type": "markdown",
      "metadata": {
        "id": "LxzIqiQJ46ty",
        "colab_type": "text"
      },
      "source": [
        "**Model Performance**"
      ]
    },
    {
      "cell_type": "code",
      "metadata": {
        "id": "Hvb-6xES4_aT",
        "colab_type": "code",
        "colab": {}
      },
      "source": [
        "y_train_pred=lm.predict(X_train).ravel()\n",
        "y_test_pred=lm.predict(X_test).ravel()"
      ],
      "execution_count": 88,
      "outputs": []
    },
    {
      "cell_type": "code",
      "metadata": {
        "id": "q5CRdScj5Cwy",
        "colab_type": "code",
        "colab": {}
      },
      "source": [
        "from sklearn.metrics import mean_squared_error as mse, r2_score"
      ],
      "execution_count": 91,
      "outputs": []
    },
    {
      "cell_type": "code",
      "metadata": {
        "id": "_YNiEmdI5OG-",
        "colab_type": "code",
        "colab": {
          "base_uri": "https://localhost:8080/",
          "height": 51
        },
        "outputId": "01b395c8-ce1a-4dca-f94c-dbcc25912305"
      },
      "source": [
        "print(\"The Mean Squared Error on Train set is:\\t{:0.1f}\".format(mse(y_train,y_train_pred)))\n",
        "print(\"The Mean Squared Error on Test set is:\\t{:0.1f}\".format(mse(y_test,y_test_pred)))\n"
      ],
      "execution_count": 92,
      "outputs": [
        {
          "output_type": "stream",
          "text": [
            "The Mean Squared Error on Train set is:\t149.4\n",
            "The Mean Squared Error on Test set is:\t0.0\n"
          ],
          "name": "stdout"
        }
      ]
    },
    {
      "cell_type": "markdown",
      "metadata": {
        "id": "8bjiUIVN5Yzd",
        "colab_type": "text"
      },
      "source": [
        "**Observation**\n",
        "\n",
        "The mean squared error value for a good model should have low value.\n"
      ]
    },
    {
      "cell_type": "code",
      "metadata": {
        "id": "jxN2G8hI5dBC",
        "colab_type": "code",
        "colab": {
          "base_uri": "https://localhost:8080/",
          "height": 51
        },
        "outputId": "a58fd9e9-404d-41a9-9549-9c1be74fcada"
      },
      "source": [
        "print(\"The R2 score on the Train set is:\\t{:0.1f}\".format(r2_score(y_train,y_train_pred)))\n",
        "print(\"The R2 score on the Test set is:\\t{:0.1f}\".format(r2_score(y_test,y_test_pred)))"
      ],
      "execution_count": 93,
      "outputs": [
        {
          "output_type": "stream",
          "text": [
            "The R2 score on the Train set is:\t0.9\n",
            "The R2 score on the Test set is:\t1.0\n"
          ],
          "name": "stdout"
        }
      ]
    },
    {
      "cell_type": "markdown",
      "metadata": {
        "id": "eixMESdB5qC2",
        "colab_type": "text"
      },
      "source": [
        "**Observation**\n",
        "\n",
        "The R2 Square error for a good model should be close to 1.\n"
      ]
    },
    {
      "cell_type": "markdown",
      "metadata": {
        "id": "vbL3-9zwS1LT",
        "colab_type": "text"
      },
      "source": [
        "### Method 2"
      ]
    },
    {
      "cell_type": "code",
      "metadata": {
        "id": "L-DoYD8GSu4M",
        "colab_type": "code",
        "colab": {
          "base_uri": "https://localhost:8080/",
          "height": 204
        },
        "outputId": "397f5857-dce6-48d8-d42a-f9fb1d444b67"
      },
      "source": [
        "df.head()"
      ],
      "execution_count": 21,
      "outputs": [
        {
          "output_type": "execute_result",
          "data": {
            "text/html": [
              "<div>\n",
              "<style scoped>\n",
              "    .dataframe tbody tr th:only-of-type {\n",
              "        vertical-align: middle;\n",
              "    }\n",
              "\n",
              "    .dataframe tbody tr th {\n",
              "        vertical-align: top;\n",
              "    }\n",
              "\n",
              "    .dataframe thead th {\n",
              "        text-align: right;\n",
              "    }\n",
              "</style>\n",
              "<table border=\"1\" class=\"dataframe\">\n",
              "  <thead>\n",
              "    <tr style=\"text-align: right;\">\n",
              "      <th></th>\n",
              "      <th>Gender</th>\n",
              "      <th>Height</th>\n",
              "      <th>Weight</th>\n",
              "    </tr>\n",
              "  </thead>\n",
              "  <tbody>\n",
              "    <tr>\n",
              "      <th>0</th>\n",
              "      <td>Male</td>\n",
              "      <td>73.847017</td>\n",
              "      <td>241.893563</td>\n",
              "    </tr>\n",
              "    <tr>\n",
              "      <th>1</th>\n",
              "      <td>Male</td>\n",
              "      <td>68.781904</td>\n",
              "      <td>162.310473</td>\n",
              "    </tr>\n",
              "    <tr>\n",
              "      <th>2</th>\n",
              "      <td>Male</td>\n",
              "      <td>74.110105</td>\n",
              "      <td>212.740856</td>\n",
              "    </tr>\n",
              "    <tr>\n",
              "      <th>3</th>\n",
              "      <td>Male</td>\n",
              "      <td>71.730978</td>\n",
              "      <td>220.042470</td>\n",
              "    </tr>\n",
              "    <tr>\n",
              "      <th>4</th>\n",
              "      <td>Male</td>\n",
              "      <td>69.881796</td>\n",
              "      <td>206.349801</td>\n",
              "    </tr>\n",
              "  </tbody>\n",
              "</table>\n",
              "</div>"
            ],
            "text/plain": [
              "  Gender     Height      Weight\n",
              "0   Male  73.847017  241.893563\n",
              "1   Male  68.781904  162.310473\n",
              "2   Male  74.110105  212.740856\n",
              "3   Male  71.730978  220.042470\n",
              "4   Male  69.881796  206.349801"
            ]
          },
          "metadata": {
            "tags": []
          },
          "execution_count": 21
        }
      ]
    },
    {
      "cell_type": "code",
      "metadata": {
        "id": "kvXhEmgRS8_R",
        "colab_type": "code",
        "colab": {}
      },
      "source": [
        "x = df.iloc[:, 1:2].values\n",
        "y = df.iloc[:, 2:3].values"
      ],
      "execution_count": 22,
      "outputs": []
    },
    {
      "cell_type": "markdown",
      "metadata": {
        "id": "99dnwzdSTeBi",
        "colab_type": "text"
      },
      "source": [
        "Split Train, Test Data : Let's Split our Data "
      ]
    },
    {
      "cell_type": "code",
      "metadata": {
        "id": "6DGbAsw9TWOt",
        "colab_type": "code",
        "colab": {}
      },
      "source": [
        "from sklearn.model_selection import train_test_split"
      ],
      "execution_count": 23,
      "outputs": []
    },
    {
      "cell_type": "code",
      "metadata": {
        "id": "E6pP4mgBTqRp",
        "colab_type": "code",
        "colab": {}
      },
      "source": [
        "x_train, x_test, y_train, y_test = train_test_split (x, y, test_size = 0.3, random_state = 31)"
      ],
      "execution_count": 24,
      "outputs": []
    },
    {
      "cell_type": "markdown",
      "metadata": {
        "id": "HDC8IXZgUOAU",
        "colab_type": "text"
      },
      "source": [
        "**Linear Regression Model**"
      ]
    },
    {
      "cell_type": "code",
      "metadata": {
        "id": "RObsxdHrT-Fg",
        "colab_type": "code",
        "colab": {}
      },
      "source": [
        "from sklearn.linear_model import LinearRegression"
      ],
      "execution_count": 25,
      "outputs": []
    },
    {
      "cell_type": "code",
      "metadata": {
        "id": "7e8NyIZaUZWG",
        "colab_type": "code",
        "colab": {}
      },
      "source": [
        "regressor = LinearRegression()"
      ],
      "execution_count": 26,
      "outputs": []
    },
    {
      "cell_type": "code",
      "metadata": {
        "id": "Q90X2Q3EUcMM",
        "colab_type": "code",
        "colab": {}
      },
      "source": [
        "model_fit = regressor.fit(x_train, y_train)"
      ],
      "execution_count": 27,
      "outputs": []
    },
    {
      "cell_type": "code",
      "metadata": {
        "id": "0u5t5Iq4UjuD",
        "colab_type": "code",
        "colab": {}
      },
      "source": [
        "y_predict = regressor.predict(x_test)"
      ],
      "execution_count": 28,
      "outputs": []
    },
    {
      "cell_type": "code",
      "metadata": {
        "id": "UVvtnQh3UpeA",
        "colab_type": "code",
        "colab": {
          "base_uri": "https://localhost:8080/",
          "height": 136
        },
        "outputId": "67cfa54b-4852-42d6-cde2-2eaecdfa3c6e"
      },
      "source": [
        "y_predict"
      ],
      "execution_count": 29,
      "outputs": [
        {
          "output_type": "execute_result",
          "data": {
            "text/plain": [
              "array([[163.3254169 ],\n",
              "       [172.4561169 ],\n",
              "       [141.93545547],\n",
              "       ...,\n",
              "       [183.17868191],\n",
              "       [151.35818679],\n",
              "       [140.9103195 ]])"
            ]
          },
          "metadata": {
            "tags": []
          },
          "execution_count": 29
        }
      ]
    },
    {
      "cell_type": "code",
      "metadata": {
        "id": "rUlpn5IDUtYw",
        "colab_type": "code",
        "colab": {
          "base_uri": "https://localhost:8080/",
          "height": 295
        },
        "outputId": "04b0f8ff-092a-4a71-8748-eade6fa05b8c"
      },
      "source": [
        "plt.scatter(x_test, y_test)\n",
        "plt.plot(x_train, regressor.predict(x_train), color = 'r')\n",
        "plt.xlabel(\"Height\")\n",
        "plt.ylabel(\"Weight\")\n",
        "plt.title(\"Height vs Weight Prediction\")\n",
        "plt.show()"
      ],
      "execution_count": 30,
      "outputs": [
        {
          "output_type": "display_data",
          "data": {
            "image/png": "[encoded data removed]",
            "text/plain": [
              "<Figure size 432x288 with 1 Axes>"
            ]
          },
          "metadata": {
            "tags": [],
            "needs_background": "light"
          }
        }
      ]
    },
    {
      "cell_type": "markdown",
      "metadata": {
        "id": "Z1gDC6XTVgA4",
        "colab_type": "text"
      },
      "source": [
        "**Observation**: our regression line is finely fitting our data points.\n",
        "\n",
        "The blue points are actual values & points on red line are predicted values."
      ]
    },
    {
      "cell_type": "markdown",
      "metadata": {
        "id": "bfGWp1I2Vvl8",
        "colab_type": "text"
      },
      "source": [
        "**Accuracy**"
      ]
    },
    {
      "cell_type": "markdown",
      "metadata": {
        "id": "gQcOj-iDV1rO",
        "colab_type": "text"
      },
      "source": [
        "To find accuracy of model we can utilise metrics like:\n",
        "- R-square,  mean-squared-error(MSE),  root-mean-squared-error(RMSE)\n",
        "\n",
        "r value/score is an indicator of how strong the relationships are. (It is a measurement based on the spread of the data)"
      ]
    },
    {
      "cell_type": "code",
      "metadata": {
        "id": "fELq1puyVPv_",
        "colab_type": "code",
        "colab": {}
      },
      "source": [
        "from sklearn.metrics import r2_score"
      ],
      "execution_count": 31,
      "outputs": []
    },
    {
      "cell_type": "code",
      "metadata": {
        "id": "VNY_trmnWRd5",
        "colab_type": "code",
        "colab": {
          "base_uri": "https://localhost:8080/",
          "height": 34
        },
        "outputId": "d1e29694-23a3-474f-a16b-b7d4bad333ea"
      },
      "source": [
        "print(f\"Model accuracy is: {regressor.score(x_test, y_test)}\")"
      ],
      "execution_count": 32,
      "outputs": [
        {
          "output_type": "stream",
          "text": [
            "Model accuracy is: 0.8518184505555159\n"
          ],
          "name": "stdout"
        }
      ]
    },
    {
      "cell_type": "markdown",
      "metadata": {
        "id": "V3mXvWzUWliA",
        "colab_type": "text"
      },
      "source": [
        "**Observation** : Our Model accuracy is 85%, which is not bad."
      ]
    },
    {
      "cell_type": "code",
      "metadata": {
        "id": "koRG5hE9Wh_j",
        "colab_type": "code",
        "colab": {
          "base_uri": "https://localhost:8080/",
          "height": 34
        },
        "outputId": "76620596-99c0-4878-f169-99c091c97d52"
      },
      "source": [
        "r2_score(y_test, y_predict)"
      ],
      "execution_count": 33,
      "outputs": [
        {
          "output_type": "execute_result",
          "data": {
            "text/plain": [
              "0.8518184505555159"
            ]
          },
          "metadata": {
            "tags": []
          },
          "execution_count": 33
        }
      ]
    },
    {
      "cell_type": "markdown",
      "metadata": {
        "id": "7k6GyatKXMKB",
        "colab_type": "text"
      },
      "source": [
        "## Classification \n"
      ]
    },
    {
      "cell_type": "markdown",
      "metadata": {
        "id": "5FiWb0TRXZF8",
        "colab_type": "text"
      },
      "source": [
        "Previously we saw how to predict Weigth by Height, which is simple because:\n",
        "1. Both were numeric values\n",
        "2. There was only one independent variable or feature(Height).\n",
        "\n",
        "Previously we were finding continuous values like Weight but here we will be finding discrete values like Male or Female, hence we will using classification."
      ]
    },
    {
      "cell_type": "markdown",
      "metadata": {
        "id": "JVWme6JxYXl3",
        "colab_type": "text"
      },
      "source": [
        "### KNN Classification"
      ]
    },
    {
      "cell_type": "markdown",
      "metadata": {
        "id": "AijyXIJyYfgL",
        "colab_type": "text"
      },
      "source": [
        "[K nearest neighbors](https://www.saedsayad.com/k_nearest_neighbors.htm#:~:text=K%20nearest%20neighbors%20is%20a,as%20a%20non%2Dparametric%20technique.) is a simple algorithm that stores all available cases and classifies new cases based on a similarity measure (e.g., distance functions).\n",
        "\n",
        "It will plot your data points on the graph and select the 'n' number of neighbors(which you define) and relate your datapoint to majority."
      ]
    },
    {
      "cell_type": "code",
      "metadata": {
        "id": "kr6FfP_iXBGH",
        "colab_type": "code",
        "colab": {
          "base_uri": "https://localhost:8080/",
          "height": 204
        },
        "outputId": "ae2e918b-a746-4936-c001-4701bc4a5020"
      },
      "source": [
        "df.head()"
      ],
      "execution_count": 34,
      "outputs": [
        {
          "output_type": "execute_result",
          "data": {
            "text/html": [
              "<div>\n",
              "<style scoped>\n",
              "    .dataframe tbody tr th:only-of-type {\n",
              "        vertical-align: middle;\n",
              "    }\n",
              "\n",
              "    .dataframe tbody tr th {\n",
              "        vertical-align: top;\n",
              "    }\n",
              "\n",
              "    .dataframe thead th {\n",
              "        text-align: right;\n",
              "    }\n",
              "</style>\n",
              "<table border=\"1\" class=\"dataframe\">\n",
              "  <thead>\n",
              "    <tr style=\"text-align: right;\">\n",
              "      <th></th>\n",
              "      <th>Gender</th>\n",
              "      <th>Height</th>\n",
              "      <th>Weight</th>\n",
              "    </tr>\n",
              "  </thead>\n",
              "  <tbody>\n",
              "    <tr>\n",
              "      <th>0</th>\n",
              "      <td>Male</td>\n",
              "      <td>73.847017</td>\n",
              "      <td>241.893563</td>\n",
              "    </tr>\n",
              "    <tr>\n",
              "      <th>1</th>\n",
              "      <td>Male</td>\n",
              "      <td>68.781904</td>\n",
              "      <td>162.310473</td>\n",
              "    </tr>\n",
              "    <tr>\n",
              "      <th>2</th>\n",
              "      <td>Male</td>\n",
              "      <td>74.110105</td>\n",
              "      <td>212.740856</td>\n",
              "    </tr>\n",
              "    <tr>\n",
              "      <th>3</th>\n",
              "      <td>Male</td>\n",
              "      <td>71.730978</td>\n",
              "      <td>220.042470</td>\n",
              "    </tr>\n",
              "    <tr>\n",
              "      <th>4</th>\n",
              "      <td>Male</td>\n",
              "      <td>69.881796</td>\n",
              "      <td>206.349801</td>\n",
              "    </tr>\n",
              "  </tbody>\n",
              "</table>\n",
              "</div>"
            ],
            "text/plain": [
              "  Gender     Height      Weight\n",
              "0   Male  73.847017  241.893563\n",
              "1   Male  68.781904  162.310473\n",
              "2   Male  74.110105  212.740856\n",
              "3   Male  71.730978  220.042470\n",
              "4   Male  69.881796  206.349801"
            ]
          },
          "metadata": {
            "tags": []
          },
          "execution_count": 34
        }
      ]
    },
    {
      "cell_type": "code",
      "metadata": {
        "id": "l34r9GZResK8",
        "colab_type": "code",
        "colab": {}
      },
      "source": [
        "x_ml = df.iloc[:, 1:3].values\n",
        "y_ml = df.iloc[:, 0:1].values"
      ],
      "execution_count": 35,
      "outputs": []
    },
    {
      "cell_type": "code",
      "metadata": {
        "id": "SJL7YqXKe7vE",
        "colab_type": "code",
        "colab": {
          "base_uri": "https://localhost:8080/",
          "height": 34
        },
        "outputId": "2867674f-c21d-4cc5-f409-bfded85a4f94"
      },
      "source": [
        "x_ml.shape"
      ],
      "execution_count": 36,
      "outputs": [
        {
          "output_type": "execute_result",
          "data": {
            "text/plain": [
              "(10000, 2)"
            ]
          },
          "metadata": {
            "tags": []
          },
          "execution_count": 36
        }
      ]
    },
    {
      "cell_type": "markdown",
      "metadata": {
        "id": "dFiCjPN9fQcZ",
        "colab_type": "text"
      },
      "source": [
        "**Observation**: We can see a problem here;\n",
        "\n",
        "Our target variable (y) is in string form, hence we cannot tell male from female. \n",
        "\n",
        "ML model only understands numeric values. To make our model work, we need to encode it to numeric values.\n",
        "\n",
        "We will use LabelEncoder class for this."
      ]
    },
    {
      "cell_type": "code",
      "metadata": {
        "id": "2D4aRwnie_k8",
        "colab_type": "code",
        "colab": {}
      },
      "source": [
        "from sklearn.preprocessing import LabelEncoder"
      ],
      "execution_count": 37,
      "outputs": []
    },
    {
      "cell_type": "code",
      "metadata": {
        "id": "YpxeXyDzfwbn",
        "colab_type": "code",
        "colab": {}
      },
      "source": [
        "encoder = LabelEncoder()"
      ],
      "execution_count": 38,
      "outputs": []
    },
    {
      "cell_type": "code",
      "metadata": {
        "id": "Gp-eUO4Vf1gn",
        "colab_type": "code",
        "colab": {
          "base_uri": "https://localhost:8080/",
          "height": 71
        },
        "outputId": "b524ce13-e010-42f6-e675-9269bed251e5"
      },
      "source": [
        "y_ml = encoder.fit_transform(y_ml)"
      ],
      "execution_count": 39,
      "outputs": [
        {
          "output_type": "stream",
          "text": [
            "/usr/local/lib/python3.6/dist-packages/sklearn/preprocessing/_label.py:251: DataConversionWarning: A column-vector y was passed when a 1d array was expected. Please change the shape of y to (n_samples, ), for example using ravel().\n",
            "  y = column_or_1d(y, warn=True)\n"
          ],
          "name": "stderr"
        }
      ]
    },
    {
      "cell_type": "code",
      "metadata": {
        "id": "5JTAIq3kf_NL",
        "colab_type": "code",
        "colab": {
          "base_uri": "https://localhost:8080/",
          "height": 34
        },
        "outputId": "30af12a3-7ef7-4d6e-f858-fbf7c6ae7376"
      },
      "source": [
        "y_ml # so we can see now our string values are encoded. Male as 1 & Female as 0"
      ],
      "execution_count": 40,
      "outputs": [
        {
          "output_type": "execute_result",
          "data": {
            "text/plain": [
              "array([1, 1, 1, ..., 0, 0, 0])"
            ]
          },
          "metadata": {
            "tags": []
          },
          "execution_count": 40
        }
      ]
    },
    {
      "cell_type": "code",
      "metadata": {
        "id": "apJVtvFdgfey",
        "colab_type": "code",
        "colab": {
          "base_uri": "https://localhost:8080/",
          "height": 34
        },
        "outputId": "925b3f18-315a-4538-83a9-06dfbccbc9dd"
      },
      "source": [
        "y_ml.shape"
      ],
      "execution_count": 41,
      "outputs": [
        {
          "output_type": "execute_result",
          "data": {
            "text/plain": [
              "(10000,)"
            ]
          },
          "metadata": {
            "tags": []
          },
          "execution_count": 41
        }
      ]
    },
    {
      "cell_type": "markdown",
      "metadata": {
        "id": "IQkB0GvSgoeC",
        "colab_type": "text"
      },
      "source": [
        "We can now perform KNN classification"
      ]
    },
    {
      "cell_type": "code",
      "metadata": {
        "id": "3KCannfogj50",
        "colab_type": "code",
        "colab": {}
      },
      "source": [
        "# We need to split train test set first.\n",
        "x_train_ml, x_test_ml, y_train_ml, y_test_ml = train_test_split(x_ml, y_ml, test_size=0.3, random_state=31)"
      ],
      "execution_count": 42,
      "outputs": []
    },
    {
      "cell_type": "code",
      "metadata": {
        "id": "Az5p-suCg4EX",
        "colab_type": "code",
        "colab": {}
      },
      "source": [
        "from sklearn.neighbors import KNeighborsClassifier\n",
        "knn = KNeighborsClassifier(n_neighbors = 3) # #n_neighbors is the number of neighbours"
      ],
      "execution_count": 43,
      "outputs": []
    },
    {
      "cell_type": "code",
      "metadata": {
        "id": "ramBkxr4hinr",
        "colab_type": "code",
        "colab": {
          "base_uri": "https://localhost:8080/",
          "height": 68
        },
        "outputId": "1de2aaf8-f1ea-4e33-e944-d5577ce6fc44"
      },
      "source": [
        "knn.fit(x_train_ml, y_train_ml)"
      ],
      "execution_count": 44,
      "outputs": [
        {
          "output_type": "execute_result",
          "data": {
            "text/plain": [
              "KNeighborsClassifier(algorithm='auto', leaf_size=30, metric='minkowski',\n",
              "                     metric_params=None, n_jobs=None, n_neighbors=3, p=2,\n",
              "                     weights='uniform')"
            ]
          },
          "metadata": {
            "tags": []
          },
          "execution_count": 44
        }
      ]
    },
    {
      "cell_type": "code",
      "metadata": {
        "id": "eAtCwyFDhun6",
        "colab_type": "code",
        "colab": {}
      },
      "source": [
        "y_predict_ml = knn.predict(x_test_ml)"
      ],
      "execution_count": 45,
      "outputs": []
    },
    {
      "cell_type": "code",
      "metadata": {
        "id": "lAP9M0dFiHjm",
        "colab_type": "code",
        "colab": {
          "base_uri": "https://localhost:8080/",
          "height": 34
        },
        "outputId": "29237da5-20ba-4f88-856b-43e5bcb38689"
      },
      "source": [
        "y_predict_ml # So we can see how our model is classifying the gender"
      ],
      "execution_count": 46,
      "outputs": [
        {
          "output_type": "execute_result",
          "data": {
            "text/plain": [
              "array([0, 1, 0, ..., 1, 0, 0])"
            ]
          },
          "metadata": {
            "tags": []
          },
          "execution_count": 46
        }
      ]
    },
    {
      "cell_type": "markdown",
      "metadata": {
        "id": "dFEyvy5richy",
        "colab_type": "text"
      },
      "source": [
        "### Plotting a Confusion Matrix"
      ]
    },
    {
      "cell_type": "markdown",
      "metadata": {
        "id": "-xFjPLfziiUB",
        "colab_type": "text"
      },
      "source": [
        "A confusion matrix is a table that is often used to describe the performance of a classification model (or \"classifier\") on a set of test data for which the true values are known. "
      ]
    },
    {
      "cell_type": "code",
      "metadata": {
        "id": "eNEZHHESiQ_B",
        "colab_type": "code",
        "colab": {}
      },
      "source": [
        "from sklearn.metrics import confusion_matrix "
      ],
      "execution_count": 47,
      "outputs": []
    },
    {
      "cell_type": "code",
      "metadata": {
        "id": "fe4xZM83rlmK",
        "colab_type": "code",
        "colab": {
          "base_uri": "https://localhost:8080/",
          "height": 51
        },
        "outputId": "a85fe97d-ef01-4a66-e194-97c6a455e535"
      },
      "source": [
        "confusion_matrix(y_test_ml, y_predict_ml)"
      ],
      "execution_count": 48,
      "outputs": [
        {
          "output_type": "execute_result",
          "data": {
            "text/plain": [
              "array([[1315,  157],\n",
              "       [ 138, 1390]])"
            ]
          },
          "metadata": {
            "tags": []
          },
          "execution_count": 48
        }
      ]
    },
    {
      "cell_type": "markdown",
      "metadata": {
        "id": "xAl_aeYisDkd",
        "colab_type": "text"
      },
      "source": [
        "**Observation**:\n",
        "\n",
        "- Our Confusion Matrix shows that we predicted 1315(TP) + 1390(TN) = 2705 values correct and 138(FN) + 157(FP) = 295 values incorrect.\n",
        "\n",
        "Not bad, but can we do it better?"
      ]
    },
    {
      "cell_type": "code",
      "metadata": {
        "id": "MggwtesZry-M",
        "colab_type": "code",
        "colab": {
          "base_uri": "https://localhost:8080/",
          "height": 51
        },
        "outputId": "efd143b6-096f-4e41-9587-83cd41a39e1c"
      },
      "source": [
        "# Lets change the n_neighbors values in KNN classifier and see\n",
        "\n",
        "knn = KNeighborsClassifier(n_neighbors=5) #n_neighbors is the number of neighbours\n",
        "knn.fit(x_train_ml, y_train_ml)\n",
        "y_predict_ml = knn.predict(x_test_ml)\n",
        "cm = confusion_matrix(y_test_ml, y_predict_ml)\n",
        "cm"
      ],
      "execution_count": 49,
      "outputs": [
        {
          "output_type": "execute_result",
          "data": {
            "text/plain": [
              "array([[1330,  142],\n",
              "       [ 135, 1393]])"
            ]
          },
          "metadata": {
            "tags": []
          },
          "execution_count": 49
        }
      ]
    },
    {
      "cell_type": "markdown",
      "metadata": {
        "id": "qJC9_Sj0uAbO",
        "colab_type": "text"
      },
      "source": [
        "**Observation**\n",
        "- Correct values = 2723 & Incorrect values = 277. \n",
        "\n",
        "So we can see that it depends on the number of the knn neighbours. You have to check multiple value to find the best result. In our case, 5 (n_neighbors) seem good."
      ]
    },
    {
      "cell_type": "code",
      "metadata": {
        "id": "rTHw9SQwtGn6",
        "colab_type": "code",
        "colab": {
          "base_uri": "https://localhost:8080/",
          "height": 34
        },
        "outputId": "40619d06-89ca-4cb0-aeb8-26dfbabe1a2e"
      },
      "source": [
        "# Lets see the knn.score \n",
        "\n",
        "print(\"accuracy:\", knn.score(x_test_ml, y_test_ml))"
      ],
      "execution_count": 50,
      "outputs": [
        {
          "output_type": "stream",
          "text": [
            "accuracy: 0.9076666666666666\n"
          ],
          "name": "stdout"
        }
      ]
    },
    {
      "cell_type": "markdown",
      "metadata": {
        "id": "uck4lUPDtpJ_",
        "colab_type": "text"
      },
      "source": [
        "**Observation**:\n",
        "- 90% accuraccy (this is a good number)"
      ]
    },
    {
      "cell_type": "code",
      "metadata": {
        "id": "2tUZ-SRowc8k",
        "colab_type": "code",
        "colab": {
          "base_uri": "https://localhost:8080/",
          "height": 282
        },
        "outputId": "8b6c61be-21c9-4282-99be-bfee9b837096"
      },
      "source": [
        "sns.heatmap(cm, annot=True, fmt='g')"
      ],
      "execution_count": 51,
      "outputs": [
        {
          "output_type": "execute_result",
          "data": {
            "text/plain": [
              "<matplotlib.axes._subplots.AxesSubplot at 0x7f80031465c0>"
            ]
          },
          "metadata": {
            "tags": []
          },
          "execution_count": 51
        },
        {
          "output_type": "display_data",
          "data": {
            "image/png": "[encoded data removed]",
            "text/plain": [
              "<Figure size 432x288 with 2 Axes>"
            ]
          },
          "metadata": {
            "tags": [],
            "needs_background": "light"
          }
        }
      ]
    },
    {
      "cell_type": "markdown",
      "metadata": {
        "id": "yv395kI7ul7o",
        "colab_type": "text"
      },
      "source": [
        "### Improving Our Model"
      ]
    },
    {
      "cell_type": "code",
      "metadata": {
        "id": "wFX2hLxQtml_",
        "colab_type": "code",
        "colab": {}
      },
      "source": [
        "from sklearn.model_selection import GridSearchCV"
      ],
      "execution_count": 52,
      "outputs": []
    },
    {
      "cell_type": "markdown",
      "metadata": {
        "id": "REpf3o4QlwW4",
        "colab_type": "text"
      },
      "source": [
        "Below we will add parameters which we can experiment with. So our model will get evaluated with all possible combinations to get the best score and param combination.\n"
      ]
    },
    {
      "cell_type": "code",
      "metadata": {
        "id": "4gCq0Iq3mT_M",
        "colab_type": "code",
        "colab": {}
      },
      "source": [
        "params = {\n",
        "    \"n_neighbors\": [5, 10, 20],\n",
        "    'leaf_size' : [30, 40, 50],\n",
        "    'algorithm': [\"ball_tree\", \"kd_tree\", \"brute\"],\n",
        "    'p': [1, 2]\n",
        "}\n",
        "gs = GridSearchCV(estimator=knn, cv=10, param_grid=params )"
      ],
      "execution_count": 53,
      "outputs": []
    },
    {
      "cell_type": "code",
      "metadata": {
        "id": "LtbJyrZ8mU4K",
        "colab_type": "code",
        "colab": {}
      },
      "source": [
        "gsresult = gs.fit(x_train_ml, y_train_ml )\n",
        "# it may take a while as grid search cv will run your mode with all the possible \n",
        "# combinations of given params."
      ],
      "execution_count": 55,
      "outputs": []
    },
    {
      "cell_type": "code",
      "metadata": {
        "id": "6FnXwOveniW3",
        "colab_type": "code",
        "colab": {
          "base_uri": "https://localhost:8080/",
          "height": 51
        },
        "outputId": "faf5d5b1-4e8f-4eb6-a4b2-62d86ac0ae9a"
      },
      "source": [
        "print(gsresult.best_score_) \n",
        "print(gsresult.best_params_) "
      ],
      "execution_count": 56,
      "outputs": [
        {
          "output_type": "stream",
          "text": [
            "0.9190000000000002\n",
            "{'algorithm': 'ball_tree', 'leaf_size': 30, 'n_neighbors': 20, 'p': 1}\n"
          ],
          "name": "stdout"
        }
      ]
    },
    {
      "cell_type": "markdown",
      "metadata": {
        "id": "-ERFmki2n7N1",
        "colab_type": "text"
      },
      "source": [
        "**Observation:**\n",
        "\n",
        "We have increased the accuracy of training data with more than 1%. So this is the best possible combination for our model. "
      ]
    },
    {
      "cell_type": "code",
      "metadata": {
        "id": "r4E2XsdxnxNi",
        "colab_type": "code",
        "colab": {
          "base_uri": "https://localhost:8080/",
          "height": 68
        },
        "outputId": "bdb44a4f-3458-4f1c-9d89-053fc6afcb1a"
      },
      "source": [
        "knn_best_fit = KNeighborsClassifier(algorithm = \"ball_tree\", leaf_size= 30, n_neighbors = 20, p=1)\n",
        "knn_best_fit.fit(x_train_ml, y_train_ml)"
      ],
      "execution_count": 58,
      "outputs": [
        {
          "output_type": "execute_result",
          "data": {
            "text/plain": [
              "KNeighborsClassifier(algorithm='ball_tree', leaf_size=30, metric='minkowski',\n",
              "                     metric_params=None, n_jobs=None, n_neighbors=20, p=1,\n",
              "                     weights='uniform')"
            ]
          },
          "metadata": {
            "tags": []
          },
          "execution_count": 58
        }
      ]
    },
    {
      "cell_type": "code",
      "metadata": {
        "id": "5Uhu3uu7ohyd",
        "colab_type": "code",
        "colab": {}
      },
      "source": [
        "y_predict_best = knn_best_fit.predict(x_test_ml)"
      ],
      "execution_count": 60,
      "outputs": []
    },
    {
      "cell_type": "code",
      "metadata": {
        "id": "u4wL7Lp3onlI",
        "colab_type": "code",
        "colab": {
          "base_uri": "https://localhost:8080/",
          "height": 51
        },
        "outputId": "eaf325c6-3112-4e57-9339-8e5d75440f5b"
      },
      "source": [
        "cm_best = confusion_matrix(y_test_ml, y_predict_best)\n",
        "cm_best"
      ],
      "execution_count": 61,
      "outputs": [
        {
          "output_type": "execute_result",
          "data": {
            "text/plain": [
              "array([[1352,  120],\n",
              "       [ 133, 1395]])"
            ]
          },
          "metadata": {
            "tags": []
          },
          "execution_count": 61
        }
      ]
    },
    {
      "cell_type": "code",
      "metadata": {
        "id": "KxC8asgXosoX",
        "colab_type": "code",
        "colab": {
          "base_uri": "https://localhost:8080/",
          "height": 34
        },
        "outputId": "144dafd7-f8ef-44f8-da51-526092f0b669"
      },
      "source": [
        "print(\"accuracy:\", knn.score(x_test_ml, y_predict_best)) "
      ],
      "execution_count": 63,
      "outputs": [
        {
          "output_type": "stream",
          "text": [
            "accuracy: 0.9706666666666667\n"
          ],
          "name": "stdout"
        }
      ]
    },
    {
      "cell_type": "markdown",
      "metadata": {
        "id": "PhAmbRb5o2d2",
        "colab_type": "text"
      },
      "source": [
        "**Observation:**\n",
        "\n",
        "The accuracy of our new model is 97% which means 7% more than our old model for unseen data or test data, which is amazing."
      ]
    },
    {
      "cell_type": "markdown",
      "metadata": {
        "id": "axI5ZZ0kpJBy",
        "colab_type": "text"
      },
      "source": [
        "### Plotting Final Confusion Matrix"
      ]
    },
    {
      "cell_type": "code",
      "metadata": {
        "id": "1aKqYxFpoz0J",
        "colab_type": "code",
        "colab": {
          "base_uri": "https://localhost:8080/",
          "height": 282
        },
        "outputId": "84b39a4f-51b2-41f9-c947-a99632b0ef8f"
      },
      "source": [
        "# Confusion Matrix 1 (90% Accuracy)\n",
        "sns.heatmap(cm, annot=True, fmt='g')"
      ],
      "execution_count": 64,
      "outputs": [
        {
          "output_type": "execute_result",
          "data": {
            "text/plain": [
              "<matplotlib.axes._subplots.AxesSubplot at 0x7f7ffef97160>"
            ]
          },
          "metadata": {
            "tags": []
          },
          "execution_count": 64
        },
        {
          "output_type": "display_data",
          "data": {
            "image/png": "[encoded data removed]",
            "text/plain": [
              "<Figure size 432x288 with 2 Axes>"
            ]
          },
          "metadata": {
            "tags": [],
            "needs_background": "light"
          }
        }
      ]
    },
    {
      "cell_type": "code",
      "metadata": {
        "id": "C8lKYFr2pUO9",
        "colab_type": "code",
        "colab": {
          "base_uri": "https://localhost:8080/",
          "height": 282
        },
        "outputId": "809ec2e9-56a5-45f7-9b8f-ef0744b729c0"
      },
      "source": [
        "# Confusion Matrix 2 Best Fit (97% Accuracy)\n",
        "sns.heatmap(cm_best, annot=True, fmt='g')"
      ],
      "execution_count": 65,
      "outputs": [
        {
          "output_type": "execute_result",
          "data": {
            "text/plain": [
              "<matplotlib.axes._subplots.AxesSubplot at 0x7f7ffef68b70>"
            ]
          },
          "metadata": {
            "tags": []
          },
          "execution_count": 65
        },
        {
          "output_type": "display_data",
          "data": {
            "image/png": "[encoded data removed]",
            "text/plain": [
              "<Figure size 432x288 with 2 Axes>"
            ]
          },
          "metadata": {
            "tags": [],
            "needs_background": "light"
          }
        }
      ]
    }
  ]
}